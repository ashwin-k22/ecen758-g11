{
  "cells": [
    {
      "cell_type": "code",
      "execution_count": 1,
      "metadata": {
        "id": "U5IgSqnfn-ZZ"
      },
      "outputs": [],
      "source": [
        "import gzip\n",
        "from sklearn.model_selection import train_test_split\n",
        "import torch\n",
        "import torch.nn as nn\n",
        "import numpy as np\n",
        "import torchvision.transforms as transforms\n",
        "from matplotlib import pyplot as plt\n",
        "from torch.utils.data import TensorDataset, DataLoader, Dataset\n",
        "import torch.nn.functional as F\n",
        "import torch.optim as optim\n",
        "from torchvision import datasets\n",
        "from PIL import Image"
      ]
    },
    {
      "cell_type": "code",
      "execution_count": 2,
      "metadata": {
        "id": "D_l2wVSIn-Za"
      },
      "outputs": [],
      "source": [
        "train = gzip.open('train-images-idx3-ubyte.gz', 'rb')\n",
        "train_label = gzip.open('train-labels-idx1-ubyte.gz', 'rb')\n",
        "test = gzip.open('t10k-images-idx3-ubyte.gz', 'rb')\n",
        "test_label = gzip.open('t10k-labels-idx1-ubyte.gz', 'rb')\n",
        "\n",
        "train.read(16)\n",
        "train_label.read(8)\n",
        "test.read(16)\n",
        "test_label.read(8)\n",
        "\n",
        "train_image_data = np.frombuffer(train.read(), dtype=np.uint8).reshape(-1, 28, 28)\n",
        "train_label_data = np.frombuffer(train_label.read(), dtype=np.uint8)\n",
        "\n",
        "test_image_data = np.frombuffer(test.read(), dtype=np.uint8).reshape(-1, 28, 28)\n",
        "test_label_data = np.frombuffer(test_label.read(), dtype=np.uint8)\n",
        "\n",
        "# Ensure train_image_data and train_label_data have compatible shapes\n",
        "train_image_data = train_image_data[:len(train_label_data)] # This will keep the first 12000 entries from the image data, or\n",
        "# train_label_data = train_label_data[:len(train_image_data)] # will keep the first 48000 labels, based on your desired approach.\n",
        "\n",
        "train_images, val_images, train_labels, val_labels = train_test_split(\n",
        "    train_image_data, train_label_data, test_size=0.2, random_state=42 # Added random_state for reproducibility.\n",
        ")"
      ]
    },
    {
      "cell_type": "code",
      "execution_count": 3,
      "metadata": {
        "id": "g-Zmz8BZn-Zb"
      },
      "outputs": [],
      "source": [
        "transform_train = transforms.Compose([\n",
        "    transforms.RandomHorizontalFlip(),\n",
        "    transforms.RandomRotation(10),\n",
        "    transforms.ToTensor(),\n",
        "    transforms.Normalize((0.5,), (0.5,))\n",
        "])\n",
        "\n",
        "transform_val_test = transforms.Compose([\n",
        "    transforms.ToTensor(),\n",
        "    transforms.Normalize((0.5,), (0.5,))\n",
        "])\n",
        "\n",
        "class CustomDataset(Dataset):\n",
        "    def __init__(self, images, labels, transform=None):\n",
        "        self.images = images.numpy().astype(np.uint8)\n",
        "        self.labels = labels\n",
        "        self.transform = transform\n",
        "\n",
        "    def __len__(self):\n",
        "        return len(self.images)\n",
        "\n",
        "    def __getitem__(self, idx):\n",
        "        image = Image.fromarray(self.images[idx])\n",
        "        if self.transform:\n",
        "            image = self.transform(image)\n",
        "        label = self.labels[idx]\n",
        "        return image, label\n",
        "\n",
        "# Convert data to PyTorch tensors\n",
        "train_images = torch.tensor(train_images, dtype=torch.float32)\n",
        "train_labels = torch.tensor(train_labels, dtype=torch.long)  # Labels should be long tensors\n",
        "val_images = torch.tensor(val_images, dtype=torch.float32)\n",
        "val_labels = torch.tensor(val_labels, dtype=torch.long)\n",
        "test_image_data = torch.tensor(test_image_data, dtype=torch.float32)\n",
        "test_label_data = torch.tensor(test_label_data, dtype=torch.long)\n",
        "\n",
        "# Create custom datasets with transforms\n",
        "train_dataset = CustomDataset(train_images, train_labels, transform=transform_train)\n",
        "val_dataset = CustomDataset(val_images, val_labels, transform=transform_val_test)\n",
        "test_dataset = CustomDataset(test_image_data, test_label_data, transform=transform_val_test)\n",
        "\n",
        "# Create DataLoaders\n",
        "train_loader = DataLoader(train_dataset, batch_size=64, shuffle=True)\n",
        "val_loader = DataLoader(val_dataset, batch_size=64, shuffle=False)\n",
        "test_loader = DataLoader(test_dataset, batch_size=64, shuffle=False)"
      ]
    },
    {
      "cell_type": "code",
      "execution_count": 7,
      "metadata": {
        "id": "CPItzuEIn-Zc"
      },
      "outputs": [],
      "source": [
        "class CNN(nn.Module):\n",
        "    def __init__(self):\n",
        "        super().__init__()\n",
        "        self.layer1 = nn.Sequential(\n",
        "            nn.Conv2d(1, 32, kernel_size=3, padding=1),\n",
        "            nn.BatchNorm2d(32),\n",
        "            nn.ReLU(),\n",
        "            nn.MaxPool2d(2))\n",
        "        self.layer2 = nn.Sequential(\n",
        "            nn.Conv2d(32, 64, kernel_size=3),\n",
        "            nn.BatchNorm2d(64),\n",
        "            nn.ReLU(),\n",
        "            nn.MaxPool2d(2))\n",
        "        self.fc1 = nn.Linear(64 * 6 * 6, 512)\n",
        "        self.dropout = nn.Dropout(0.5)\n",
        "        self.fc2 = nn.Linear(512, 10)\n",
        "\n",
        "    def forward(self, x):\n",
        "        x = self.layer1(x)\n",
        "        x = self.layer2(x)\n",
        "        x = x.view(-1, 64 * 6 * 6)\n",
        "        x = F.relu(self.fc1(x))\n",
        "        x = self.dropout(x)\n",
        "        x = self.fc2(x)\n",
        "        return x\n",
        "\n",
        "model = CNN()"
      ]
    },
    {
      "cell_type": "code",
      "execution_count": 8,
      "metadata": {
        "id": "6tBS3TdrpB1X"
      },
      "outputs": [],
      "source": [
        "criterion = nn.CrossEntropyLoss()\n",
        "optimizer = optim.Adam(model.parameters(), lr=0.0001)"
      ]
    },
    {
      "cell_type": "code",
      "execution_count": 9,
      "metadata": {
        "colab": {
          "base_uri": "https://localhost:8080/"
        },
        "id": "D0DDChxPrOI8",
        "outputId": "8964885a-d12d-4c05-b03d-b79cfc9365c3"
      },
      "outputs": [
        {
          "output_type": "stream",
          "name": "stdout",
          "text": [
            "Epoch: 1 \tValidation Loss: 0.006341 \tValidation Accuracy: 85.68%\n",
            "Epoch: 2 \tValidation Loss: 0.005268 \tValidation Accuracy: 87.62%\n",
            "Epoch: 3 \tValidation Loss: 0.004900 \tValidation Accuracy: 88.54%\n",
            "Epoch: 4 \tValidation Loss: 0.004647 \tValidation Accuracy: 89.01%\n",
            "Epoch: 5 \tValidation Loss: 0.004392 \tValidation Accuracy: 89.74%\n",
            "Epoch: 6 \tValidation Loss: 0.004272 \tValidation Accuracy: 90.02%\n",
            "Epoch: 7 \tValidation Loss: 0.004156 \tValidation Accuracy: 90.16%\n",
            "Epoch: 8 \tValidation Loss: 0.004169 \tValidation Accuracy: 90.12%\n",
            "Epoch: 9 \tValidation Loss: 0.003968 \tValidation Accuracy: 90.50%\n",
            "Epoch: 10 \tValidation Loss: 0.004249 \tValidation Accuracy: 89.89%\n",
            "Epoch: 11 \tValidation Loss: 0.003917 \tValidation Accuracy: 90.84%\n",
            "Epoch: 12 \tValidation Loss: 0.003817 \tValidation Accuracy: 91.03%\n",
            "Epoch: 13 \tValidation Loss: 0.003752 \tValidation Accuracy: 91.02%\n",
            "Epoch: 14 \tValidation Loss: 0.003744 \tValidation Accuracy: 91.24%\n",
            "Epoch: 15 \tValidation Loss: 0.003638 \tValidation Accuracy: 91.47%\n",
            "Epoch: 16 \tValidation Loss: 0.003685 \tValidation Accuracy: 91.34%\n",
            "Epoch: 17 \tValidation Loss: 0.003671 \tValidation Accuracy: 91.46%\n",
            "Epoch: 18 \tValidation Loss: 0.003609 \tValidation Accuracy: 91.59%\n",
            "Epoch: 19 \tValidation Loss: 0.003489 \tValidation Accuracy: 91.88%\n",
            "Epoch: 20 \tValidation Loss: 0.003629 \tValidation Accuracy: 91.58%\n"
          ]
        }
      ],
      "source": [
        "for epoch in range(20):\n",
        "    model.train()\n",
        "    for images, labels in train_loader:\n",
        "        images = images.float()\n",
        "        optimizer.zero_grad()\n",
        "        output = model(images)\n",
        "        loss = criterion(output, labels)\n",
        "        loss.backward()\n",
        "        optimizer.step()\n",
        "\n",
        "    model.eval()\n",
        "    val_loss = 0\n",
        "    correct = 0\n",
        "    with torch.no_grad():\n",
        "        for images, labels in val_loader:\n",
        "            images = images.float()\n",
        "            output = model(images)\n",
        "            val_loss += criterion(output, labels).item()\n",
        "            pred = output.argmax(dim=1, keepdim=True)\n",
        "            correct += pred.eq(labels.view_as(pred)).sum().item()\n",
        "    val_loss /= len(val_loader.dataset)\n",
        "\n",
        "    print('Epoch: {} \\tValidation Loss: {:.6f} \\tValidation Accuracy: {:.2f}%'.format(epoch + 1, val_loss, 100. * correct / len(val_loader.dataset)))"
      ]
    },
    {
      "cell_type": "markdown",
      "metadata": {
        "id": "K1MtMGg_n-Zc"
      },
      "source": [
        "Sources:\n",
        "https://pytorch.org/tutorials/beginner/blitz/cifar10_tutorial.html"
      ]
    }
  ],
  "metadata": {
    "accelerator": "TPU",
    "colab": {
      "gpuType": "V28",
      "provenance": []
    },
    "kernelspec": {
      "display_name": "Python 3",
      "name": "python3"
    },
    "language_info": {
      "codemirror_mode": {
        "name": "ipython",
        "version": 3
      },
      "file_extension": ".py",
      "mimetype": "text/x-python",
      "name": "python",
      "nbconvert_exporter": "python",
      "pygments_lexer": "ipython3",
      "version": "3.12.7"
    }
  },
  "nbformat": 4,
  "nbformat_minor": 0
}