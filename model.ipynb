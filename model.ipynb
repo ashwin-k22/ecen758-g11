{
 "cells": [
  {
   "cell_type": "code",
   "execution_count": 2,
   "metadata": {},
   "outputs": [],
   "source": [
    "import gzip"
   ]
  },
  {
   "cell_type": "code",
   "execution_count": 3,
   "metadata": {},
   "outputs": [],
   "source": [
    "train_image_data = gzip.open('train-images-idx3-ubyte.gz', 'rb')\n",
    "train_label_data = gzip.open('train-labels-idx1-ubyte.gz', 'rb')"
   ]
  }
 ],
 "metadata": {
  "kernelspec": {
   "display_name": "758_venv",
   "language": "python",
   "name": "python3"
  },
  "language_info": {
   "codemirror_mode": {
    "name": "ipython",
    "version": 3
   },
   "file_extension": ".py",
   "mimetype": "text/x-python",
   "name": "python",
   "nbconvert_exporter": "python",
   "pygments_lexer": "ipython3",
   "version": "3.12.7"
  }
 },
 "nbformat": 4,
 "nbformat_minor": 2
}
